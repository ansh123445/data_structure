{
 "cells": [
  {
   "cell_type": "raw",
   "id": "123262ca-cc62-4561-88a0-5b451e21611a",
   "metadata": {},
   "source": [
    "que1.Discuss string slicing and provide examples.\n",
    "\n",
    "solution:\n",
    "String slicing is a technique in Python used to extract a portion of a string by specifying a range of indices.\n",
    "eg:s=\"AJAY\"\n",
    "s[0]='A'\n",
    "s[1]='J'\n",
    "s[0:2]='AJ'\n",
    "s[1:3]='JA\n",
    "s[2:]='AY'"
   ]
  },
  {
   "cell_type": "raw",
   "id": "08c8f4f0-328f-47b4-8e2f-b89606ead3de",
   "metadata": {},
   "source": [
    "que2.Explain the key features of list in python.\n",
    "\n",
    "solution:\n",
    "the key features are:\n",
    "(1)Lists maintain the order of elements.\n",
    "(2)Lists are mutable, meaning their contents can be changed after creation.\n",
    "(3)Lists can grow and shrink dynamically as elements are added or removed.\n",
    "(4)list are hetrogeneous.\n",
    "(5)Lists support indexing and slicing, allowing for easy access to and manipulation of subsets of the list.\n",
    "\n"
   ]
  },
  {
   "cell_type": "raw",
   "id": "606e8b23-d477-4435-a332-1be13f3f283e",
   "metadata": {},
   "source": [
    "que3.describe how to acces,modify and delete elements in a list with examples.\n",
    "\n",
    "solution:\n",
    "\n",
    "(1)accesing:You can access elements in a list using indexing.\n",
    "\n",
    "eg:\n",
    "movies=[\"action1\",\"action2\",\"comedy\",\"thriller\"]\n",
    "\n",
    "movies[0]='action1'\n",
    "movies[-1]='thriller'\n",
    "\n",
    "so this is how we can access elements in list.\n",
    "\n",
    "(2)modifying:You can modify elements in a list by assigning a new value to a specific index.\n",
    "\n",
    "eg:\n",
    "movies=movies=[\"action1\",\"action2\",\"comedy\",\"thriller\"]\n",
    "\n",
    "movies[0]=\"danger\"\n",
    "\n",
    "movies=[\"danger\",\"action2\",\"comedy\",\"thriller\"]\n",
    "\n",
    "(3)delete elements:Removes the first occurrence of a specified value.\n",
    "\n",
    "eg:\n",
    "\n",
    "1.fruits = [\"apple\", \"banana\", \"cherry\", \"date\"]\n",
    "del fruits[1] \n",
    "['apple', 'cherry', 'date']\n",
    "\n",
    "2.fruits = [\"apple\", \"banana\", \"cherry\", \"banana\", \"date\"]\n",
    "fruits.remove(\"banana\")\n",
    "['apple', 'cherry', 'date']\n",
    "\n"
   ]
  },
  {
   "cell_type": "raw",
   "id": "a1e8192c-1da3-4d4c-8185-2189653010c5",
   "metadata": {},
   "source": [
    "que4.compare and contrast tuples and sets in python programming.\n",
    "\n",
    "solution:\n",
    "\n",
    "Tuples and sets are both built-in data structures in Python, each serving distinct purposes and possessing unique characteristics. Tuples are ordered collections of items that are immutable, meaning once a tuple is created, its elements cannot be changed. This immutability makes tuples suitable for storing fixed collections of related data, such as coordinates or records, and they can be used as keys in dictionaries due to their hashability. Tuples allow duplicate elements and maintain the order of insertion, making them ideal for scenarios where the sequence and integrity of data need to be preserved.\n",
    "\n",
    "eg:fruits = (\"apple\", \"banana\", \"cherry\")\n",
    "print(fruits[1])\n",
    "output:\"banana\"\n",
    "\n",
    "In contrast, sets are unordered collections of unique items, designed primarily for membership testing, eliminating duplicates, and performing mathematical set operations like union, intersection, and difference. Unlike tuples, sets are mutable, allowing elements to be added or removed. However, sets do not maintain any order among their elements, and they cannot contain mutable types like lists or other sets. This unordered nature of sets makes them unsuitable for tasks requiring element order or indexing, but their uniqueness and efficiency in membership tests make them perfect for situations where data deduplication and fast lookups are crucial.\n",
    "\n",
    "eg:fruits = {\"apple\", \"banana\", \"cherry\"}\n",
    "fruits.add(\"date\")\n",
    "fruits.remove(\"banana\")"
   ]
  },
  {
   "cell_type": "raw",
   "id": "18eea2e0-bede-4ea6-aa4d-41d954450057",
   "metadata": {},
   "source": [
    "que5.describe the key features of sets and provide examples of their use.\n",
    "\n",
    "solution:\n",
    "(1)Unordered:\n",
    "Sets do not maintain any particular order of elements. This means there is no index to access elements by position\n",
    "eg:fruits = {\"apple\", \"banana\", \"cherry\"}\n",
    "# The order of elements is not guaranteed\n",
    "\n",
    "(2)Unique Elements:\n",
    "Sets automatically remove duplicate elements, ensuring all elements are unique.\n",
    "\n",
    "eg:fruits = {\"apple\", \"banana\", \"apple\"}\n",
    "print(fruits)  # Output: {\"apple\", \"banana\"}\n",
    "\n",
    "(3)Sets are mutable, allowing elements to be added or removed.\n",
    "eg:fruits = {\"apple\", \"banana\"}\n",
    "fruits.add(\"cherry\")\n",
    "fruits.remove(\"banana\")\n",
    "\n",
    "\n"
   ]
  },
  {
   "cell_type": "raw",
   "id": "8593ffb7-3942-46c9-b56f-2a781a8b8aa2",
   "metadata": {},
   "source": [
    "que6.discuss the use cases of tuples and sets in python programming.\n",
    "\n",
    "solution:\n",
    "\n",
    "#use> use tuples as a data structure where you dont want to modify the data\n",
    "empid = (1, 2, 3, 4, 5)\n",
    "empid[1] = 100\n",
    "\n",
    "\n",
    "#sets>>sets are unordered and unique collection of elements\n",
    "#doesn't alllow duplicate elements\n",
    "#unordered>> indexing will not work\n",
    "\n",
    "eg:#use case\n",
    "list1 = [1, 2, 3, \"Brinjal\", \"Brinjal\", \"Apple\", \"Apple\"]\n",
    "s = set(list1)"
   ]
  },
  {
   "cell_type": "raw",
   "id": "4bef8ed4-1cdc-41be-9399-c98bdac48161",
   "metadata": {},
   "source": [
    "que7.describe how to add,modify and delete items in dictionary with examples.\n",
    "\n",
    "solution:\n",
    "\n",
    "(1)add:\n",
    "d = {\"name\":\"Ajay\", \"email\":\"aj@gmail.com\", \"contact\": 1234}\n",
    "d[\"address\":\"pune\"]\n",
    "\n"
   ]
  },
  {
   "cell_type": "raw",
   "id": "1af7834b-e061-4c6c-8460-9cd8fb0a8143",
   "metadata": {},
   "source": [
    "que8.discuss the importance of dictionary key being immutable and provide examples.\n",
    "\n",
    "solution:\n",
    "\n",
    "1.Hashing Requirement:\n",
    "\n",
    "Dictionaries in Python are implemented using hash tables. When a key-value pair is added to a dictionary, the key is hashed, and this hash value is used to determine where to store the corresponding value.\n",
    "\n",
    "2.Consistency and Integrity:\n",
    "\n",
    "If dictionary keys were mutable, changing the key after it has been added to the dictionary would make it impossible to locate the value associated with that key. This would compromise the integrity and consistency of the dictionary."
   ]
  },
  {
   "cell_type": "code",
   "execution_count": null,
   "id": "11e3d7e8-1370-4879-bf61-825835a47b0b",
   "metadata": {},
   "outputs": [],
   "source": []
  }
 ],
 "metadata": {
  "kernelspec": {
   "display_name": "Python 3 (ipykernel)",
   "language": "python",
   "name": "python3"
  },
  "language_info": {
   "codemirror_mode": {
    "name": "ipython",
    "version": 3
   },
   "file_extension": ".py",
   "mimetype": "text/x-python",
   "name": "python",
   "nbconvert_exporter": "python",
   "pygments_lexer": "ipython3",
   "version": "3.10.8"
  }
 },
 "nbformat": 4,
 "nbformat_minor": 5
}
